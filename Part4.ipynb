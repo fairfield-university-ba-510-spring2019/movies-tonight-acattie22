{
 "cells": [
  {
   "cell_type": "markdown",
   "metadata": {},
   "source": [
    "# Movies Tonight Part 4: A few SELECT queries \n",
    "__Use `%%sql` magic to write the queries listed below.__"
   ]
  },
  {
   "cell_type": "code",
   "execution_count": 11,
   "metadata": {
    "collapsed": true
   },
   "outputs": [
    {
     "data": {
      "text/plain": [
       "'Connected: @Movies.db'"
      ]
     },
     "execution_count": 11,
     "metadata": {},
     "output_type": "execute_result"
    }
   ],
   "source": [
    "# load %sql magic extension\n",
    "%reload_ext sql\n",
    "\n",
    "# initialize a database connection; may have to adjust username and password \n",
    "%sql sqlite:///Movies.db"
   ]
  },
  {
   "cell_type": "markdown",
   "metadata": {},
   "source": [
    "**1. Write a select query that returns the MovieTitle, TheaterName, and Showtime for each movie showing.**  \n",
    "The query should use `JOIN` syntax as described in your textbook. Also, use aliases ( `… AS …` ) to make sure that column names match exactly what is asked for. "
   ]
  },
  {
   "cell_type": "code",
   "execution_count": 20,
   "metadata": {
    "collapsed": true
   },
   "outputs": [
    {
     "name": "stdout",
     "output_type": "stream",
     "text": [
      " * sqlite:///Movies.db\n",
      "(sqlite3.OperationalError) no such table: SHOW [SQL: 'SELECT M.MTitle AS MovieTitle, T.TName AS TheaterName, S.STime AS Showtime\\nFROM SHOW S\\n    JOIN MOVIE M ON S.MID = M.MID\\n    JOIN THEATER T ON S.TID = T.TID'] (Background on this error at: http://sqlalche.me/e/e3q8)\n"
     ]
    }
   ],
   "source": [
    "%%sql\n",
    "SELECT M.MTitle AS MovieTitle, T.TName AS TheaterName, S.STime AS Showtime\n",
    "FROM SHOW S\n",
    "    JOIN MOVIE M ON S.MID = M.MID\n",
    "    JOIN THEATER T ON S.TID = T.TID"
   ]
  },
  {
   "cell_type": "markdown",
   "metadata": {},
   "source": [
    "**2. Write a select query to display the MovieTitle, TheaterName, and Showtime for each show after 7pm.** You can start with a copy of the previous query and then add a `WHERE` clause. "
   ]
  },
  {
   "cell_type": "code",
   "execution_count": 21,
   "metadata": {
    "collapsed": true
   },
   "outputs": [
    {
     "name": "stdout",
     "output_type": "stream",
     "text": [
      " * sqlite:///Movies.db\n",
      "(sqlite3.OperationalError) no such table: SHOW [SQL: 'SELECT M.MTitle AS MovieTitle, T.TName AS TheaterName, S.STime AS Showtime\\nFROM SHOW S\\n    JOIN MOVIE M ON S.MID = M.MID\\n    JOIN THEATER T ON S.TID = T.TID\\nWHERE S.STime > 7'] (Background on this error at: http://sqlalche.me/e/e3q8)\n"
     ]
    }
   ],
   "source": [
    "%%sql\n",
    "SELECT M.MTitle AS MovieTitle, T.TName AS TheaterName, S.STime AS Showtime\n",
    "FROM SHOW S\n",
    "    JOIN MOVIE M ON S.MID = M.MID\n",
    "    JOIN THEATER T ON S.TID = T.TID\n",
    "WHERE S.STime > 7"
   ]
  },
  {
   "cell_type": "markdown",
   "metadata": {},
   "source": [
    "**3. Write a select query to display the cast (actors only) of each movie.** The query should return the Movie Title, Actor Name, MID, and AID. "
   ]
  },
  {
   "cell_type": "code",
   "execution_count": 22,
   "metadata": {
    "collapsed": true
   },
   "outputs": [
    {
     "name": "stdout",
     "output_type": "stream",
     "text": [
      " * sqlite:///Movies.db\n",
      "(sqlite3.OperationalError) near \"Title\": syntax error [SQL: 'SELECT M.MTitle AS Movie Title, A.AID AS Actor Name, M.MID AS MID, A.AID AS AID\\nFROM CREDIT C\\n    JOIN MOVIE M ON C.MID = M.MID\\n    JOIN ARTIST A ON C.AID = A.AID'] (Background on this error at: http://sqlalche.me/e/e3q8)\n"
     ]
    }
   ],
   "source": [
    "%%sql\n",
    "SELECT M.MTitle AS Movie Title, A.AID AS Actor Name, M.MID AS MID, A.AID AS AID\n",
    "FROM CREDIT C\n",
    "    JOIN MOVIE M ON C.MID = M.MID\n",
    "    JOIN ARTIST A ON C.AID = A.AID"
   ]
  },
  {
   "cell_type": "markdown",
   "metadata": {},
   "source": [
    "**4. Write a select query to display the number of distinct movies that each actor appears in.** The query should return the ActorName, MovieCount, and AID. You will need to use use a GROUP BY clause and the COUNT() function. "
   ]
  },
  {
   "cell_type": "code",
   "execution_count": 23,
   "metadata": {
    "collapsed": true
   },
   "outputs": [
    {
     "name": "stdout",
     "output_type": "stream",
     "text": [
      " * sqlite:///Movies.db\n",
      "(sqlite3.OperationalError) near \"Name\": syntax error [SQL: 'SELECT A.AName AS Actor Name, COUNT(DISTINCT M.MID), A.AID AS AID\\nFROM MOVIE M\\n    JOIN MOVIE M ON C.MID = M.MID\\n    JOIN ARTIST A ON C.AID = A.AID\\nGROUP BY A.AID'] (Background on this error at: http://sqlalche.me/e/e3q8)\n"
     ]
    }
   ],
   "source": [
    "%%sql\n",
    "SELECT A.AName AS Actor Name, COUNT(DISTINCT M.MID), A.AID AS AID\n",
    "FROM MOVIE M\n",
    "    JOIN MOVIE M ON C.MID = M.MID\n",
    "    JOIN ARTIST A ON C.AID = A.AID\n",
    "GROUP BY A.AID"
   ]
  },
  {
   "cell_type": "markdown",
   "metadata": {},
   "source": [
    "**5. Write a select query to display only the actors that appear in multiple movies.** The query should return the Actor Name, Movie Count, and AID. You can use the previous select query as a starting point. You will need to add a HAVING clause to do the restriction. "
   ]
  },
  {
   "cell_type": "code",
   "execution_count": 24,
   "metadata": {
    "collapsed": true
   },
   "outputs": [
    {
     "name": "stdout",
     "output_type": "stream",
     "text": [
      " * sqlite:///Movies.db\n",
      "(sqlite3.OperationalError) near \"Name\": syntax error [SQL: 'SELECT A.AName AS Actor Name, COUNT(DISTINCT M.MID), A.AID AS AID\\nFROM MOVIE M\\n    JOIN MOVIE M ON C.MID = M.MID\\n    JOIN ARTIST A ON C.AID = A.AID\\nGROUP BY A.AID HAVING COUNT(DISTINCT M.MID)'] (Background on this error at: http://sqlalche.me/e/e3q8)\n"
     ]
    }
   ],
   "source": [
    "%%sql\n",
    "SELECT A.AName AS Actor Name, COUNT(DISTINCT M.MID), A.AID AS AID\n",
    "FROM MOVIE M\n",
    "    JOIN MOVIE M ON C.MID = M.MID\n",
    "    JOIN ARTIST A ON C.AID = A.AID\n",
    "GROUP BY A.AID HAVING COUNT(DISTINCT M.MID)"
   ]
  },
  {
   "cell_type": "markdown",
   "metadata": {},
   "source": [
    "**6. Write a select query to display directors that also act in their movies.** The query should return the ArtistName, NumDirectorCredits, NumActorCredits, NumDirectorActorCredits. Each count should be calculated separately using a subquery. Note: NumDirectorActorCredits should be greater than 0."
   ]
  },
  {
   "cell_type": "code",
   "execution_count": null,
   "metadata": {
    "collapsed": true
   },
   "outputs": [],
   "source": []
  },
  {
   "cell_type": "code",
   "execution_count": null,
   "metadata": {},
   "outputs": [],
   "source": []
  }
 ],
 "metadata": {
  "kernelspec": {
   "display_name": "Python 3",
   "language": "python",
   "name": "python3"
  },
  "language_info": {
   "codemirror_mode": {
    "name": "ipython",
    "version": 3
   },
   "file_extension": ".py",
   "mimetype": "text/x-python",
   "name": "python",
   "nbconvert_exporter": "python",
   "pygments_lexer": "ipython3",
   "version": "3.6.5"
  }
 },
 "nbformat": 4,
 "nbformat_minor": 2
}
